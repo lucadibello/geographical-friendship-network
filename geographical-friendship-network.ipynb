{
 "cells": [
  {
   "cell_type": "markdown",
   "metadata": {},
   "source": [
    "# Geographical-based friendship network\n",
    "\n",
    "Luca Di Bello, University of Italian Switzerland (USI), 2023\n",
    "\n",
    "## Project description\n",
    "\n",
    "Social networks are systems that map the relationships and interactions between individuals. Although social networks are typically dynamic, the focus of this project is put on a static example.\n",
    "\n",
    "Geographical distance plays a crucial role in social network formation, with closer physical proximity typically leading to more frequent and stronger social ties.\n",
    "\n",
    "Additionally, geographical features, such as the density of people in an area (more in cities and less in remote mountainous regions), profoundly influence the composition and scale of these networks, shaping the diversity and connectivity of communities within a given region.\n",
    "\n",
    "## Inhabitant maps\n",
    "\n",
    "The project features two kinds of inhabitant maps:\n",
    "\n",
    "### Purely random map\n",
    "\n",
    "1000 inhabitants are randomly distributed across a unit square map, $[0,1]^2$. Each individual is assigned a uniform random position $(x,y)$ in the map.\n",
    "\n",
    "### Geographical-based random map\n",
    "\n",
    "This map features several geographical areas $F$, such as cities, mountains, and lakes. The inhabitants are randomly distributed across the map, but the density of inhabitants is higher in cities and lower in mountains and lakes. The function $f$ maps the coordinates $(x, y)$ of an individual to the geographical area $f$ in which the individual is located.\n",
    "\n",
    "$$\n",
    "f(x,y) = \\text{geographical area in which individual } (x,y) \\text{ is located}\n",
    "$$\n",
    "  \n",
    "In this map, individuals are no longer distributed uniformly at random across the map. Instead, the density of inhabitants depends on specific geographical features: each area has a positive factor that determines the ease of living there:\n",
    "\n",
    "$$\n",
    "s_f = \\text{ease of living in area } f \\ \\forall f \\in F\n",
    "$$\n",
    "\n",
    "The probability of a random individual being located in coordinates $(x,y)$ is the following:\n",
    "\n",
    "$$\n",
    "P(\\text{random person settles in } (x,y)) = \\frac{s_{f(x,y)}}{\\sum_{(x',y') \\in \\text{Map}} s_{f(x',y')}}"
   ]
  },
  {
   "cell_type": "markdown",
   "metadata": {},
   "source": [
    "## Scenario 1: "
   ]
  }
 ],
 "metadata": {
  "language_info": {
   "name": "python"
  }
 },
 "nbformat": 4,
 "nbformat_minor": 2
}
